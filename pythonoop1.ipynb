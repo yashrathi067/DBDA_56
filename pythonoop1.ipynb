{
  "nbformat": 4,
  "nbformat_minor": 0,
  "metadata": {
    "colab": {
      "provenance": [],
      "authorship_tag": "ABX9TyN9l5LM1lFBvnJc7quC62EV",
      "include_colab_link": true
    },
    "kernelspec": {
      "name": "python3",
      "display_name": "Python 3"
    },
    "language_info": {
      "name": "python"
    }
  },
  "cells": [
    {
      "cell_type": "markdown",
      "metadata": {
        "id": "view-in-github",
        "colab_type": "text"
      },
      "source": [
        "<a href=\"https://colab.research.google.com/github/yashrathi067/DBDA_56/blob/main/pythonoop1.ipynb\" target=\"_parent\"><img src=\"https://colab.research.google.com/assets/colab-badge.svg\" alt=\"Open In Colab\"/></a>"
      ]
    },
    {
      "cell_type": "code",
      "execution_count": null,
      "metadata": {
        "colab": {
          "base_uri": "https://localhost:8080/"
        },
        "id": "UKPZ2hVO7Ayn",
        "outputId": "4cbdc604-faa8-49a8-92fa-cc395093c186"
      },
      "outputs": [
        {
          "output_type": "stream",
          "name": "stdout",
          "text": [
            "Enter your name:yash\n",
            "Enter your department:85\n",
            "Enter your manager:hyyy\n",
            "yash 85 hyyy\n"
          ]
        }
      ],
      "source": [
        "class Employee:\n",
        "    company_name=\"Myntra\" #class variable\n",
        "    def __init__(self):  #instance method\n",
        "        self.name=input(\"Enter your name:\")  #instance variable\n",
        "        self.dept=input(\"Enter your department:\") #instance variable\n",
        "        self.manager=input(\"Enter your manager:\") #instance variable\n",
        "    def display(self): #instance method\n",
        "        print(self.name,self.dept,self.manager)\n",
        "    @classmethod\n",
        "    def comname(cls):  #class method\n",
        "        print(cls.company_name)\n",
        "    @staticmethod\n",
        "    def display_compname_static(): #static method\n",
        "        print(Employee.company_name)\n",
        "\n",
        "e1=Employee()  # object of class employee\n",
        "e1.display()\n"
      ]
    },
    {
      "cell_type": "code",
      "source": [
        "dir(Employee)"
      ],
      "metadata": {
        "colab": {
          "base_uri": "https://localhost:8080/"
        },
        "id": "k69oXD117XxJ",
        "outputId": "742905d8-5241-4df7-8d63-7e3a3847f300"
      },
      "execution_count": null,
      "outputs": [
        {
          "output_type": "execute_result",
          "data": {
            "text/plain": [
              "['__class__',\n",
              " '__delattr__',\n",
              " '__dict__',\n",
              " '__dir__',\n",
              " '__doc__',\n",
              " '__eq__',\n",
              " '__format__',\n",
              " '__ge__',\n",
              " '__getattribute__',\n",
              " '__gt__',\n",
              " '__hash__',\n",
              " '__init__',\n",
              " '__init_subclass__',\n",
              " '__le__',\n",
              " '__lt__',\n",
              " '__module__',\n",
              " '__ne__',\n",
              " '__new__',\n",
              " '__reduce__',\n",
              " '__reduce_ex__',\n",
              " '__repr__',\n",
              " '__setattr__',\n",
              " '__sizeof__',\n",
              " '__str__',\n",
              " '__subclasshook__',\n",
              " '__weakref__',\n",
              " 'comname',\n",
              " 'company_name',\n",
              " 'display',\n",
              " 'display_compname_static']"
            ]
          },
          "metadata": {},
          "execution_count": 2
        }
      ]
    },
    {
      "cell_type": "code",
      "source": [
        "st2=Employee ()"
      ],
      "metadata": {
        "colab": {
          "base_uri": "https://localhost:8080/"
        },
        "id": "PEL5qW1F7_OT",
        "outputId": "c8a6fca4-47f4-43dd-8566-0130094d17ac"
      },
      "execution_count": null,
      "outputs": [
        {
          "name": "stdout",
          "output_type": "stream",
          "text": [
            "Enter your name:akshay\n",
            "Enter your department:10\n",
            "Enter your manager:manish\n"
          ]
        }
      ]
    },
    {
      "cell_type": "code",
      "source": [],
      "metadata": {
        "id": "63oKDvmu8LTU"
      },
      "execution_count": null,
      "outputs": []
    },
    {
      "cell_type": "code",
      "source": [
        "class Employee:\n",
        "    def __init__(self,empid,name,designation,salary,\n",
        "                 project_ids_assigned,skills):\n",
        "        self.empid = empid\n",
        "        self.name = name\n",
        "        self.designation = designation\n",
        "        self.__salary = salary\n",
        "        self.project_ids_assigned = project_ids_assigned\n",
        "        self.skills =skills\n",
        "        Employee.company_name=\"Myntra\"\n",
        "    def display_identity(self):\n",
        "        print(self.empid,self.name,self.designation,self.company_name,self.salary)\n",
        "    def display_projectid(self):\n",
        "        print(self.project_ids_assigned)\n",
        "\n",
        "\n",
        "e1=Employee(10,\"yash\",\"mgr\",100000,{1,2,3},[\"c\",'python'])\n",
        "e1.display_identity()\n",
        "e1.display_projectid()\n"
      ],
      "metadata": {
        "colab": {
          "base_uri": "https://localhost:8080/",
          "height": 315
        },
        "id": "Bvc6FnLi8qQh",
        "outputId": "2ab78632-357f-48c4-8bbe-4cb7dce93690"
      },
      "execution_count": null,
      "outputs": [
        {
          "output_type": "error",
          "ename": "AttributeError",
          "evalue": "'Employee' object has no attribute 'salary'",
          "traceback": [
            "\u001b[0;31m---------------------------------------------------------------------------\u001b[0m",
            "\u001b[0;31mAttributeError\u001b[0m                            Traceback (most recent call last)",
            "\u001b[0;32m<ipython-input-11-11e7daf2deec>\u001b[0m in \u001b[0;36m<cell line: 18>\u001b[0;34m()\u001b[0m\n\u001b[1;32m     16\u001b[0m \u001b[0;34m\u001b[0m\u001b[0m\n\u001b[1;32m     17\u001b[0m \u001b[0me1\u001b[0m\u001b[0;34m=\u001b[0m\u001b[0mEmployee\u001b[0m\u001b[0;34m(\u001b[0m\u001b[0;36m10\u001b[0m\u001b[0;34m,\u001b[0m\u001b[0;34m\"yash\"\u001b[0m\u001b[0;34m,\u001b[0m\u001b[0;34m\"mgr\"\u001b[0m\u001b[0;34m,\u001b[0m\u001b[0;36m100000\u001b[0m\u001b[0;34m,\u001b[0m\u001b[0;34m{\u001b[0m\u001b[0;36m1\u001b[0m\u001b[0;34m,\u001b[0m\u001b[0;36m2\u001b[0m\u001b[0;34m,\u001b[0m\u001b[0;36m3\u001b[0m\u001b[0;34m}\u001b[0m\u001b[0;34m,\u001b[0m\u001b[0;34m[\u001b[0m\u001b[0;34m\"c\"\u001b[0m\u001b[0;34m,\u001b[0m\u001b[0;34m'python'\u001b[0m\u001b[0;34m]\u001b[0m\u001b[0;34m)\u001b[0m\u001b[0;34m\u001b[0m\u001b[0;34m\u001b[0m\u001b[0m\n\u001b[0;32m---> 18\u001b[0;31m \u001b[0me1\u001b[0m\u001b[0;34m.\u001b[0m\u001b[0mdisplay_identity\u001b[0m\u001b[0;34m(\u001b[0m\u001b[0;34m)\u001b[0m\u001b[0;34m\u001b[0m\u001b[0;34m\u001b[0m\u001b[0m\n\u001b[0m\u001b[1;32m     19\u001b[0m \u001b[0me1\u001b[0m\u001b[0;34m.\u001b[0m\u001b[0mdisplay_projectid\u001b[0m\u001b[0;34m(\u001b[0m\u001b[0;34m)\u001b[0m\u001b[0;34m\u001b[0m\u001b[0;34m\u001b[0m\u001b[0m\n",
            "\u001b[0;32m<ipython-input-11-11e7daf2deec>\u001b[0m in \u001b[0;36mdisplay_identity\u001b[0;34m(self)\u001b[0m\n\u001b[1;32m     10\u001b[0m         \u001b[0mEmployee\u001b[0m\u001b[0;34m.\u001b[0m\u001b[0mcompany_name\u001b[0m\u001b[0;34m=\u001b[0m\u001b[0;34m\"Myntra\"\u001b[0m\u001b[0;34m\u001b[0m\u001b[0;34m\u001b[0m\u001b[0m\n\u001b[1;32m     11\u001b[0m     \u001b[0;32mdef\u001b[0m \u001b[0mdisplay_identity\u001b[0m\u001b[0;34m(\u001b[0m\u001b[0mself\u001b[0m\u001b[0;34m)\u001b[0m\u001b[0;34m:\u001b[0m\u001b[0;34m\u001b[0m\u001b[0;34m\u001b[0m\u001b[0m\n\u001b[0;32m---> 12\u001b[0;31m         \u001b[0mprint\u001b[0m\u001b[0;34m(\u001b[0m\u001b[0mself\u001b[0m\u001b[0;34m.\u001b[0m\u001b[0mempid\u001b[0m\u001b[0;34m,\u001b[0m\u001b[0mself\u001b[0m\u001b[0;34m.\u001b[0m\u001b[0mname\u001b[0m\u001b[0;34m,\u001b[0m\u001b[0mself\u001b[0m\u001b[0;34m.\u001b[0m\u001b[0mdesignation\u001b[0m\u001b[0;34m,\u001b[0m\u001b[0mself\u001b[0m\u001b[0;34m.\u001b[0m\u001b[0mcompany_name\u001b[0m\u001b[0;34m,\u001b[0m\u001b[0mself\u001b[0m\u001b[0;34m.\u001b[0m\u001b[0msalary\u001b[0m\u001b[0;34m)\u001b[0m\u001b[0;34m\u001b[0m\u001b[0;34m\u001b[0m\u001b[0m\n\u001b[0m\u001b[1;32m     13\u001b[0m     \u001b[0;32mdef\u001b[0m \u001b[0mdisplay_projectid\u001b[0m\u001b[0;34m(\u001b[0m\u001b[0mself\u001b[0m\u001b[0;34m)\u001b[0m\u001b[0;34m:\u001b[0m\u001b[0;34m\u001b[0m\u001b[0;34m\u001b[0m\u001b[0m\n\u001b[1;32m     14\u001b[0m         \u001b[0mprint\u001b[0m\u001b[0;34m(\u001b[0m\u001b[0mself\u001b[0m\u001b[0;34m.\u001b[0m\u001b[0mproject_ids_assigned\u001b[0m\u001b[0;34m)\u001b[0m\u001b[0;34m\u001b[0m\u001b[0;34m\u001b[0m\u001b[0m\n",
            "\u001b[0;31mAttributeError\u001b[0m: 'Employee' object has no attribute 'salary'"
          ]
        }
      ]
    },
    {
      "cell_type": "code",
      "source": [
        "class temp:\n",
        "  def method1(self):\n",
        "    print(\"method1  1 time\")\n",
        "  def method1(self,v1,v2):\n",
        "    print(\"method1 2nd time\")"
      ],
      "metadata": {
        "id": "sa6Hr_g9Ffs2"
      },
      "execution_count": null,
      "outputs": []
    },
    {
      "cell_type": "code",
      "source": [
        "e1.__Employee__salary"
      ],
      "metadata": {
        "colab": {
          "base_uri": "https://localhost:8080/",
          "height": 141
        },
        "id": "PhtQbwCEHQp6",
        "outputId": "a5f028cf-df4c-47fe-e10f-d3f166ce906c"
      },
      "execution_count": null,
      "outputs": [
        {
          "output_type": "error",
          "ename": "AttributeError",
          "evalue": "'Employee' object has no attribute '__Employee__salary'",
          "traceback": [
            "\u001b[0;31m---------------------------------------------------------------------------\u001b[0m",
            "\u001b[0;31mAttributeError\u001b[0m                            Traceback (most recent call last)",
            "\u001b[0;32m<ipython-input-10-a60a105af56d>\u001b[0m in \u001b[0;36m<cell line: 1>\u001b[0;34m()\u001b[0m\n\u001b[0;32m----> 1\u001b[0;31m \u001b[0me1\u001b[0m\u001b[0;34m.\u001b[0m\u001b[0m__Employee__salary\u001b[0m\u001b[0;34m\u001b[0m\u001b[0;34m\u001b[0m\u001b[0m\n\u001b[0m",
            "\u001b[0;31mAttributeError\u001b[0m: 'Employee' object has no attribute '__Employee__salary'"
          ]
        }
      ]
    },
    {
      "cell_type": "code",
      "source": [
        "class parent:\n",
        "\n",
        "  def __init__(self):\n",
        "    self.name1=\"yash\"\n",
        "    self.name2=\"akshay\"\n",
        "    parent.class_var=\"ABCD\"\n",
        "\n",
        "  def display(self):\n",
        "    print(self.name1,self.name2,self.class_var)\n",
        "\n",
        "\n",
        "\n"
      ],
      "metadata": {
        "id": "sQsWj4cpNTWl"
      },
      "execution_count": null,
      "outputs": []
    },
    {
      "cell_type": "code",
      "source": [
        "class child(parent):\n",
        "  pass\n"
      ],
      "metadata": {
        "id": "a91ZyWIGOasU"
      },
      "execution_count": null,
      "outputs": []
    },
    {
      "cell_type": "code",
      "source": [
        "c1=child()"
      ],
      "metadata": {
        "id": "EFycgTPVO2iJ"
      },
      "execution_count": null,
      "outputs": []
    },
    {
      "cell_type": "code",
      "source": [
        "c1.display()"
      ],
      "metadata": {
        "colab": {
          "base_uri": "https://localhost:8080/"
        },
        "id": "ZquczHpFPMeb",
        "outputId": "8081148f-ef44-4dbe-be57-a935e74524dc"
      },
      "execution_count": null,
      "outputs": [
        {
          "output_type": "stream",
          "name": "stdout",
          "text": [
            "yash akshay ABCD\n"
          ]
        }
      ]
    },
    {
      "cell_type": "code",
      "source": [
        "class name:\n",
        "  def __init__(self,name_value):\n",
        "    self.name_value=name_value\n",
        "\n",
        "  def __sub__(self,other):\n",
        "    temp_name_value=self.name_value+ \"-\"+other.name_value\n",
        "    return name(temp_name_value)\n",
        "  def __mul__(self,other):\n",
        "    temp_name_value=self.name_value\n",
        "\n"
      ],
      "metadata": {
        "id": "PJoBRhFUeS79"
      },
      "execution_count": 1,
      "outputs": []
    },
    {
      "cell_type": "code",
      "source": [
        "first_name=name('suraj')\n",
        "last_name=name('raj')\n",
        "final_name=first_name-last_name"
      ],
      "metadata": {
        "id": "XhmelxiEfGYv"
      },
      "execution_count": 2,
      "outputs": []
    },
    {
      "cell_type": "code",
      "source": [
        "print(final_name.name_value)"
      ],
      "metadata": {
        "colab": {
          "base_uri": "https://localhost:8080/"
        },
        "id": "qaA5nHkyfWYz",
        "outputId": "bdf093e4-f24b-476d-a30a-b56759ad7cc1"
      },
      "execution_count": 3,
      "outputs": [
        {
          "output_type": "stream",
          "name": "stdout",
          "text": [
            "suraj-raj\n"
          ]
        }
      ]
    },
    {
      "cell_type": "markdown",
      "source": [
        "**Employees class and methods define**"
      ],
      "metadata": {
        "id": "-LcjMaw2pLs2"
      }
    },
    {
      "cell_type": "code",
      "source": [
        "class employees:\n",
        "  \"\"\"This is an employee class!!!\"\"\"\n",
        "  def __init__(self,empid,name,designation,salary,project_ids_assigned,skills):\n",
        "    self.empid=empid\n",
        "    self.name=name\n",
        "    self.designation=designation\n",
        "    self.__salary=salary\n",
        "    self.project_ids_assigned=project_ids_assigned\n",
        "    self.skills=skills\n",
        "    employees.company_name='Amdocs'\n",
        "  def display_identities(self):\n",
        "    print(self.empid,self.name,self.designation,self.company_name)\n",
        "  def display_projectid(self):\n",
        "    print(self.project_ids_assigned)\n",
        "  def display_skills(self):\n",
        "    print(self.skills)\n",
        "  def display_companydetails(cls):\n",
        "    print(employees.company_name)\n",
        "\n",
        "\n",
        "\n",
        "\n",
        "\n",
        "\n"
      ],
      "metadata": {
        "id": "3zO2M4xziyzN"
      },
      "execution_count": 26,
      "outputs": []
    },
    {
      "cell_type": "code",
      "source": [
        "e1=employees(111,\"yash\",\"sme\",50000,{1,2,3},[\"linux\",\"python\",\"mysql\"])"
      ],
      "metadata": {
        "id": "ipxxtLP2cWPK"
      },
      "execution_count": 12,
      "outputs": []
    },
    {
      "cell_type": "code",
      "source": [
        "e1.display_identities()\n",
        "e1.display_projectid()\n",
        "e1.display_skills()\n",
        "e1.display_companydetails()"
      ],
      "metadata": {
        "colab": {
          "base_uri": "https://localhost:8080/"
        },
        "id": "xDCRBYVPdPFu",
        "outputId": "e097dc3c-56fa-4c3b-f6bb-5f0fe355ab0f"
      },
      "execution_count": 13,
      "outputs": [
        {
          "output_type": "stream",
          "name": "stdout",
          "text": [
            "111 yash sme Amdocs\n",
            "{1, 2, 3}\n",
            "['linux', 'python', 'mysql']\n",
            "Amdocs\n"
          ]
        }
      ]
    },
    {
      "cell_type": "code",
      "source": [
        "e2=employees(222,\"ajay\",\"hr\",650000,{4,5,6},[\"linux\",\"mysql\",\"java\"])\n",
        "e3=employees(333,\"rahul\",\"clerk\",40000,{10,20,30},[\"linux\",\"python\",\"mysql\",\"accounts\"])\n",
        "e4=employees(444,\"vijay\",\"analyst\",80000,{2,4,5},[\"linux\",\"python\",\"mysql\",\"mongodb\",\"tableau\"])"
      ],
      "metadata": {
        "colab": {
          "base_uri": "https://localhost:8080/"
        },
        "id": "OUAZLOAUeGVK",
        "outputId": "2fa48cf3-f1f1-4fd6-e2f2-675d0eae8f4c"
      },
      "execution_count": 11,
      "outputs": [
        {
          "output_type": "stream",
          "name": "stdout",
          "text": [
            "444 vijay analyst Amdocs\n",
            "{2, 4, 5}\n",
            "['linux', 'python', 'mysql', 'mongodb', 'tableau']\n",
            "Amdocs\n"
          ]
        }
      ]
    },
    {
      "cell_type": "code",
      "source": [],
      "metadata": {
        "id": "7zwAJLySgvkx"
      },
      "execution_count": null,
      "outputs": []
    },
    {
      "cell_type": "code",
      "source": [
        "e2.display_identities()\n",
        "e2.display_projectid()\n",
        "e2.display_skills()\n",
        "e2.display_companydetails()"
      ],
      "metadata": {
        "colab": {
          "base_uri": "https://localhost:8080/"
        },
        "id": "ZpRNdfRJe7Fu",
        "outputId": "11aea505-acf1-4d14-c45c-2421f7e74f4f"
      },
      "execution_count": 14,
      "outputs": [
        {
          "output_type": "stream",
          "name": "stdout",
          "text": [
            "222 ajay hr Amdocs\n",
            "{4, 5, 6}\n",
            "['linux', 'mysql', 'java']\n",
            "Amdocs\n"
          ]
        }
      ]
    },
    {
      "cell_type": "code",
      "source": [
        "e3.display_identities()\n",
        "e3.display_projectid()\n",
        "e3.display_skills()\n",
        "e3.display_companydetails()\n",
        "e4.display_identities()\n",
        "e4.display_projectid()\n",
        "e4.display_skills()\n",
        "e4.display_companydetails()"
      ],
      "metadata": {
        "colab": {
          "base_uri": "https://localhost:8080/"
        },
        "id": "YeOVt4AxfAUl",
        "outputId": "2c41095f-b050-48ee-8fb6-087191180079"
      },
      "execution_count": 15,
      "outputs": [
        {
          "output_type": "stream",
          "name": "stdout",
          "text": [
            "333 rahul clerk Amdocs\n",
            "{10, 20, 30}\n",
            "['linux', 'python', 'mysql', 'accounts']\n",
            "Amdocs\n",
            "444 vijay analyst Amdocs\n",
            "{2, 4, 5}\n",
            "['linux', 'python', 'mysql', 'mongodb', 'tableau']\n",
            "Amdocs\n"
          ]
        }
      ]
    },
    {
      "cell_type": "code",
      "source": [
        "e1.display_identities()\n",
        "e2.display_identities()\n",
        "e3.display_identities()\n",
        "e4.display_identities()"
      ],
      "metadata": {
        "colab": {
          "base_uri": "https://localhost:8080/"
        },
        "id": "j29bZrV2fSjC",
        "outputId": "5095bf90-3866-482e-8953-c8b4572b5eb4"
      },
      "execution_count": 17,
      "outputs": [
        {
          "output_type": "stream",
          "name": "stdout",
          "text": [
            "111 yash sme Amdocs\n",
            "222 ajay hr Amdocs\n",
            "333 rahul clerk Amdocs\n",
            "444 vijay analyst Amdocs\n"
          ]
        }
      ]
    },
    {
      "cell_type": "code",
      "source": [
        "e1.display_projectid()\n",
        "e2.display_projectid()\n",
        "e3.display_projectid()\n",
        "e4.display_projectid()"
      ],
      "metadata": {
        "colab": {
          "base_uri": "https://localhost:8080/"
        },
        "id": "dmgJmiGOfjP_",
        "outputId": "0e3b507f-5d31-4252-a1a9-e839dd1a8e9e"
      },
      "execution_count": 18,
      "outputs": [
        {
          "output_type": "stream",
          "name": "stdout",
          "text": [
            "{1, 2, 3}\n",
            "{4, 5, 6}\n",
            "{10, 20, 30}\n",
            "{2, 4, 5}\n"
          ]
        }
      ]
    },
    {
      "cell_type": "code",
      "source": [
        "\n",
        "employees_list = [e1, e2, e3, e4]\n",
        "\n",
        "print(\"Employees with skill 'Python':\")\n",
        "for employees in employees_list:\n",
        "    if \"python\" in employees.skills:\n",
        "        print(employees.empid, employees.name)\n"
      ],
      "metadata": {
        "colab": {
          "base_uri": "https://localhost:8080/"
        },
        "id": "GXHu_rJKgy1W",
        "outputId": "007fb807-401b-409e-84f3-8ac6efdb0bfc"
      },
      "execution_count": 23,
      "outputs": [
        {
          "output_type": "stream",
          "name": "stdout",
          "text": [
            "Employees with skill 'Python':\n",
            "111 yash\n",
            "333 rahul\n",
            "444 vijay\n"
          ]
        }
      ]
    },
    {
      "cell_type": "code",
      "source": [
        "e1.__salary"
      ],
      "metadata": {
        "colab": {
          "base_uri": "https://localhost:8080/",
          "height": 141
        },
        "id": "xOpcjpHWhu4S",
        "outputId": "d27c6775-6936-4ce9-d5ef-979eaf39ff5d"
      },
      "execution_count": 24,
      "outputs": [
        {
          "output_type": "error",
          "ename": "AttributeError",
          "evalue": "'employees' object has no attribute '__salary'",
          "traceback": [
            "\u001b[0;31m---------------------------------------------------------------------------\u001b[0m",
            "\u001b[0;31mAttributeError\u001b[0m                            Traceback (most recent call last)",
            "\u001b[0;32m<ipython-input-24-f90054552aba>\u001b[0m in \u001b[0;36m<cell line: 1>\u001b[0;34m()\u001b[0m\n\u001b[0;32m----> 1\u001b[0;31m \u001b[0me1\u001b[0m\u001b[0;34m.\u001b[0m\u001b[0m__salary\u001b[0m\u001b[0;34m\u001b[0m\u001b[0;34m\u001b[0m\u001b[0m\n\u001b[0m",
            "\u001b[0;31mAttributeError\u001b[0m: 'employees' object has no attribute '__salary'"
          ]
        }
      ]
    },
    {
      "cell_type": "code",
      "source": [
        "employees.__doc__"
      ],
      "metadata": {
        "colab": {
          "base_uri": "https://localhost:8080/",
          "height": 36
        },
        "id": "lberBYLUiVk9",
        "outputId": "d6d9035e-d5f4-4199-d5ae-c8c6edb08069"
      },
      "execution_count": 27,
      "outputs": [
        {
          "output_type": "execute_result",
          "data": {
            "text/plain": [
              "'This is an employee class!!!'"
            ],
            "application/vnd.google.colaboratory.intrinsic+json": {
              "type": "string"
            }
          },
          "metadata": {},
          "execution_count": 27
        }
      ]
    },
    {
      "cell_type": "code",
      "source": [
        "e1._employees__salary"
      ],
      "metadata": {
        "colab": {
          "base_uri": "https://localhost:8080/"
        },
        "id": "u8LUUKGbhyNe",
        "outputId": "66c89fd7-6177-47cb-ac99-4c100caa447e"
      },
      "execution_count": 25,
      "outputs": [
        {
          "output_type": "execute_result",
          "data": {
            "text/plain": [
              "50000"
            ]
          },
          "metadata": {},
          "execution_count": 25
        }
      ]
    },
    {
      "cell_type": "markdown",
      "source": [
        "**Operator Overriding**\n"
      ],
      "metadata": {
        "id": "i244QUbNivX6"
      }
    },
    {
      "cell_type": "code",
      "source": [
        "class names:\n",
        "  def __init__(self,name_val):\n",
        "    self.name_val=name_val\n",
        "  def __add__(self,other):\n",
        "    temp_name=self.name_val+ \" \"+ other.name_val\n",
        "    return names(temp_name)\n",
        "  def __sub__(self,other):\n",
        "    temp_name=self.name_val+\"-\"+other.name_val\n",
        "    return names(temp_name)\n",
        "  def __mod__(self,other):\n",
        "    mv=self.name_val % other.name_val\n",
        "    return names(mv)\n",
        "  def __mul__(self,other):\n",
        "    m=(self.name_val+ \" \") * other.name_val\n",
        "    return names(m)"
      ],
      "metadata": {
        "id": "toips5-6i60j"
      },
      "execution_count": 57,
      "outputs": []
    },
    {
      "cell_type": "code",
      "source": [
        "first_name=names(\"yash\")\n",
        "last_name=names(5)\n",
        "mv=first_name * last_name\n",
        "print(mv.name_val)"
      ],
      "metadata": {
        "colab": {
          "base_uri": "https://localhost:8080/"
        },
        "id": "quvjpt7hi2eF",
        "outputId": "af8f456b-ae24-4b80-d310-308b10786286"
      },
      "execution_count": 58,
      "outputs": [
        {
          "output_type": "stream",
          "name": "stdout",
          "text": [
            "yash yash yash yash yash \n"
          ]
        }
      ]
    },
    {
      "cell_type": "markdown",
      "source": [
        "**Str vs repr**"
      ],
      "metadata": {
        "id": "GZbuO69AqxFG"
      }
    },
    {
      "cell_type": "code",
      "source": [
        "class Car:\n",
        "  def __init__(self,modelno,company,car_type):\n",
        "    self.modelno=modelno\n",
        "    self.company=company\n",
        "    self.car_type=car_type\n",
        "  def __str__(self):\n",
        "    return \"Car details are=\"+str(self.modelno)+\" company=\"+self.company+\" car_type=\"+self.car_type"
      ],
      "metadata": {
        "id": "OkGlx6uSpl7-"
      },
      "execution_count": 61,
      "outputs": []
    },
    {
      "cell_type": "code",
      "source": [
        "c1=Car(120,'bmw','suv')\n",
        "c2=Car(111,'porche','suv')\n",
        "print(c1)"
      ],
      "metadata": {
        "colab": {
          "base_uri": "https://localhost:8080/"
        },
        "id": "bOMTZLlSqZ6j",
        "outputId": "d390c837-ec91-4eea-c0d7-82bca88cb7f8"
      },
      "execution_count": 62,
      "outputs": [
        {
          "output_type": "stream",
          "name": "stdout",
          "text": [
            "Car details are=120 company=bmw car_type=suv\n"
          ]
        }
      ]
    }
  ]
}